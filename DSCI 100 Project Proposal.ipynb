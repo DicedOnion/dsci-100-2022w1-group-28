{
 "cells": [
  {
   "cell_type": "markdown",
   "id": "7f84d2ca-aa2d-4862-81df-8eafeaf91e53",
   "metadata": {
    "tags": []
   },
   "source": [
    "# DSCI 100 - Project Proposal\n",
    "### Group 28 Members - Michael Ly and Avery Ma"
   ]
  },
  {
   "cell_type": "markdown",
   "id": "a49cbf9a-d332-40b7-87b8-ec56912c9c54",
   "metadata": {},
   "source": [
    "Title\n",
    "\n",
    "Introduction:\n",
    "\n",
    "Provide some relevant background information on the topic so that someone unfamiliar with it will be prepared to understand the rest of your proposal\n",
    "Clearly state the question you will try to answer with your project\n",
    "Identify and describe the dataset that will be used to answer the question\n",
    "Preliminary exploratory data analysis:\n",
    "Demonstrate that the dataset can be read from the web into R \n",
    "Clean and wrangle your data into a tidy format\n",
    "Using only training data, summarize the data in at least one table (this is exploratory data analysis). An example of a useful table could be one that reports the number of observations in each class, the means of the predictor variables you plan to use in your analysis and how many rows have missing data. \n",
    "Using only training data, visualize the data with at least one plot relevant to the analysis you plan to do (this is exploratory data analysis). An example of a useful visualization could be one that compares the distributions of each of the predictor variables you plan to use in your analysis.\n",
    "\n",
    "Methods:\n",
    "\n",
    "Explain how you will conduct either your data analysis and which variables/columns you will use. Note - you do not need to use all variables/columns that exist in the raw data set. In fact, that's often not a good idea. For each variable think: is this a useful variable for prediction?\n",
    "Describe at least one way that you will visualize the results\n",
    "Expected outcomes and significance:\n",
    "\n",
    "\n",
    "What do you expect to find?\n",
    "What impact could such findings have?\n",
    "What future questions could this lead to?\n",
    "       "
   ]
  },
  {
   "cell_type": "code",
   "execution_count": 15,
   "id": "92e68d01-3f80-47ce-a24e-a458e954a2f3",
   "metadata": {},
   "outputs": [
    {
     "name": "stderr",
     "output_type": "stream",
     "text": [
      "── \u001b[1mAttaching packages\u001b[22m ─────────────────────────────────────── tidyverse 1.3.1 ──\n",
      "\n",
      "\u001b[32m✔\u001b[39m \u001b[34mggplot2\u001b[39m 3.3.6     \u001b[32m✔\u001b[39m \u001b[34mpurrr  \u001b[39m 0.3.4\n",
      "\u001b[32m✔\u001b[39m \u001b[34mtibble \u001b[39m 3.1.7     \u001b[32m✔\u001b[39m \u001b[34mdplyr  \u001b[39m 1.0.9\n",
      "\u001b[32m✔\u001b[39m \u001b[34mtidyr  \u001b[39m 1.2.0     \u001b[32m✔\u001b[39m \u001b[34mstringr\u001b[39m 1.4.0\n",
      "\u001b[32m✔\u001b[39m \u001b[34mreadr  \u001b[39m 2.1.2     \u001b[32m✔\u001b[39m \u001b[34mforcats\u001b[39m 0.5.1\n",
      "\n",
      "── \u001b[1mConflicts\u001b[22m ────────────────────────────────────────── tidyverse_conflicts() ──\n",
      "\u001b[31m✖\u001b[39m \u001b[34mdplyr\u001b[39m::\u001b[32mfilter()\u001b[39m masks \u001b[34mstats\u001b[39m::filter()\n",
      "\u001b[31m✖\u001b[39m \u001b[34mdplyr\u001b[39m::\u001b[32mlag()\u001b[39m    masks \u001b[34mstats\u001b[39m::lag()\n",
      "\n",
      "── \u001b[1mAttaching packages\u001b[22m ────────────────────────────────────── tidymodels 1.0.0 ──\n",
      "\n",
      "\u001b[32m✔\u001b[39m \u001b[34mbroom       \u001b[39m 1.0.0     \u001b[32m✔\u001b[39m \u001b[34mrsample     \u001b[39m 1.0.0\n",
      "\u001b[32m✔\u001b[39m \u001b[34mdials       \u001b[39m 1.0.0     \u001b[32m✔\u001b[39m \u001b[34mtune        \u001b[39m 1.0.0\n",
      "\u001b[32m✔\u001b[39m \u001b[34minfer       \u001b[39m 1.0.2     \u001b[32m✔\u001b[39m \u001b[34mworkflows   \u001b[39m 1.0.0\n",
      "\u001b[32m✔\u001b[39m \u001b[34mmodeldata   \u001b[39m 1.0.0     \u001b[32m✔\u001b[39m \u001b[34mworkflowsets\u001b[39m 1.0.0\n",
      "\u001b[32m✔\u001b[39m \u001b[34mparsnip     \u001b[39m 1.0.0     \u001b[32m✔\u001b[39m \u001b[34myardstick   \u001b[39m 1.0.0\n",
      "\u001b[32m✔\u001b[39m \u001b[34mrecipes     \u001b[39m 1.0.1     \n",
      "\n",
      "── \u001b[1mConflicts\u001b[22m ───────────────────────────────────────── tidymodels_conflicts() ──\n",
      "\u001b[31m✖\u001b[39m \u001b[34mscales\u001b[39m::\u001b[32mdiscard()\u001b[39m masks \u001b[34mpurrr\u001b[39m::discard()\n",
      "\u001b[31m✖\u001b[39m \u001b[34mdplyr\u001b[39m::\u001b[32mfilter()\u001b[39m   masks \u001b[34mstats\u001b[39m::filter()\n",
      "\u001b[31m✖\u001b[39m \u001b[34mrecipes\u001b[39m::\u001b[32mfixed()\u001b[39m  masks \u001b[34mstringr\u001b[39m::fixed()\n",
      "\u001b[31m✖\u001b[39m \u001b[34mdplyr\u001b[39m::\u001b[32mlag()\u001b[39m      masks \u001b[34mstats\u001b[39m::lag()\n",
      "\u001b[31m✖\u001b[39m \u001b[34myardstick\u001b[39m::\u001b[32mspec()\u001b[39m masks \u001b[34mreadr\u001b[39m::spec()\n",
      "\u001b[31m✖\u001b[39m \u001b[34mrecipes\u001b[39m::\u001b[32mstep()\u001b[39m   masks \u001b[34mstats\u001b[39m::step()\n",
      "\u001b[34m•\u001b[39m Dig deeper into tidy modeling with R at \u001b[32mhttps://www.tmwr.org\u001b[39m\n",
      "\n"
     ]
    }
   ],
   "source": [
    "library(tidyverse)\n",
    "library(repr)\n",
    "library(tidymodels)\n",
    "options(repr.matrix.max.rows = 6)"
   ]
  },
  {
   "cell_type": "code",
   "execution_count": 35,
   "id": "7909d823-abfe-45fc-9de6-793b0704baf1",
   "metadata": {},
   "outputs": [
    {
     "name": "stderr",
     "output_type": "stream",
     "text": [
      "\u001b[1m\u001b[22mNew names:\n",
      "\u001b[36m•\u001b[39m `p` -> `p...1`\n",
      "\u001b[36m•\u001b[39m `s` -> `s...3`\n",
      "\u001b[36m•\u001b[39m `n` -> `n...4`\n",
      "\u001b[36m•\u001b[39m `p` -> `p...6`\n",
      "\u001b[36m•\u001b[39m `n` -> `n...9`\n",
      "\u001b[36m•\u001b[39m `k` -> `k...10`\n",
      "\u001b[36m•\u001b[39m `e` -> `e...11`\n",
      "\u001b[36m•\u001b[39m `e` -> `e...12`\n",
      "\u001b[36m•\u001b[39m `s` -> `s...13`\n",
      "\u001b[36m•\u001b[39m `s` -> `s...14`\n",
      "\u001b[36m•\u001b[39m `w` -> `w...15`\n",
      "\u001b[36m•\u001b[39m `w` -> `w...16`\n",
      "\u001b[36m•\u001b[39m `p` -> `p...17`\n",
      "\u001b[36m•\u001b[39m `w` -> `w...18`\n",
      "\u001b[36m•\u001b[39m `p` -> `p...20`\n",
      "\u001b[36m•\u001b[39m `k` -> `k...21`\n",
      "\u001b[36m•\u001b[39m `s` -> `s...22`\n",
      "\u001b[1mRows: \u001b[22m\u001b[34m8123\u001b[39m \u001b[1mColumns: \u001b[22m\u001b[34m23\u001b[39m\n",
      "\u001b[36m──\u001b[39m \u001b[1mColumn specification\u001b[22m \u001b[36m────────────────────────────────────────────────────────\u001b[39m\n",
      "\u001b[1mDelimiter:\u001b[22m \",\"\n",
      "\u001b[31mchr\u001b[39m (22): p...1, x, s...3, n...4, p...6, f, c, n...9, k...10, e...11, e...12...\n",
      "\u001b[33mlgl\u001b[39m  (1): t\n",
      "\n",
      "\u001b[36mℹ\u001b[39m Use `spec()` to retrieve the full column specification for this data.\n",
      "\u001b[36mℹ\u001b[39m Specify the column types or set `show_col_types = FALSE` to quiet this message.\n"
     ]
    },
    {
     "data": {
      "text/html": [
       "23"
      ],
      "text/latex": [
       "23"
      ],
      "text/markdown": [
       "23"
      ],
      "text/plain": [
       "[1] 23"
      ]
     },
     "metadata": {},
     "output_type": "display_data"
    },
    {
     "data": {
      "text/html": [
       "<table class=\"dataframe\">\n",
       "<caption>A spec_tbl_df: 8123 × 23</caption>\n",
       "<thead>\n",
       "\t<tr><th scope=col>p...1</th><th scope=col>x</th><th scope=col>s...3</th><th scope=col>n...4</th><th scope=col>t</th><th scope=col>p...6</th><th scope=col>f</th><th scope=col>c</th><th scope=col>n...9</th><th scope=col>k...10</th><th scope=col>⋯</th><th scope=col>s...14</th><th scope=col>w...15</th><th scope=col>w...16</th><th scope=col>p...17</th><th scope=col>w...18</th><th scope=col>o</th><th scope=col>p...20</th><th scope=col>k...21</th><th scope=col>s...22</th><th scope=col>u</th></tr>\n",
       "\t<tr><th scope=col>&lt;chr&gt;</th><th scope=col>&lt;chr&gt;</th><th scope=col>&lt;chr&gt;</th><th scope=col>&lt;chr&gt;</th><th scope=col>&lt;lgl&gt;</th><th scope=col>&lt;chr&gt;</th><th scope=col>&lt;chr&gt;</th><th scope=col>&lt;chr&gt;</th><th scope=col>&lt;chr&gt;</th><th scope=col>&lt;chr&gt;</th><th scope=col>⋯</th><th scope=col>&lt;chr&gt;</th><th scope=col>&lt;chr&gt;</th><th scope=col>&lt;chr&gt;</th><th scope=col>&lt;chr&gt;</th><th scope=col>&lt;chr&gt;</th><th scope=col>&lt;chr&gt;</th><th scope=col>&lt;chr&gt;</th><th scope=col>&lt;chr&gt;</th><th scope=col>&lt;chr&gt;</th><th scope=col>&lt;chr&gt;</th></tr>\n",
       "</thead>\n",
       "<tbody>\n",
       "\t<tr><td>e</td><td>x</td><td>s</td><td>y</td><td>TRUE</td><td>a</td><td>f</td><td>c</td><td>b</td><td>k</td><td>⋯</td><td>s</td><td>w</td><td>w</td><td>p</td><td>w</td><td>o</td><td>p</td><td>n</td><td>n</td><td>g</td></tr>\n",
       "\t<tr><td>e</td><td>b</td><td>s</td><td>w</td><td>TRUE</td><td>l</td><td>f</td><td>c</td><td>b</td><td>n</td><td>⋯</td><td>s</td><td>w</td><td>w</td><td>p</td><td>w</td><td>o</td><td>p</td><td>n</td><td>n</td><td>m</td></tr>\n",
       "\t<tr><td>p</td><td>x</td><td>y</td><td>w</td><td>TRUE</td><td>p</td><td>f</td><td>c</td><td>n</td><td>n</td><td>⋯</td><td>s</td><td>w</td><td>w</td><td>p</td><td>w</td><td>o</td><td>p</td><td>k</td><td>s</td><td>u</td></tr>\n",
       "\t<tr><td>⋮</td><td>⋮</td><td>⋮</td><td>⋮</td><td>⋮</td><td>⋮</td><td>⋮</td><td>⋮</td><td>⋮</td><td>⋮</td><td>⋱</td><td>⋮</td><td>⋮</td><td>⋮</td><td>⋮</td><td>⋮</td><td>⋮</td><td>⋮</td><td>⋮</td><td>⋮</td><td>⋮</td></tr>\n",
       "\t<tr><td>e</td><td>f</td><td>s</td><td>n</td><td>FALSE</td><td>n</td><td>a</td><td>c</td><td>b</td><td>n</td><td>⋯</td><td>s</td><td>o</td><td>o</td><td>p</td><td>o</td><td>o</td><td>p</td><td>b</td><td>c</td><td>l</td></tr>\n",
       "\t<tr><td>p</td><td>k</td><td>y</td><td>n</td><td>FALSE</td><td>y</td><td>f</td><td>c</td><td>n</td><td>b</td><td>⋯</td><td>k</td><td>w</td><td>w</td><td>p</td><td>w</td><td>o</td><td>e</td><td>w</td><td>v</td><td>l</td></tr>\n",
       "\t<tr><td>e</td><td>x</td><td>s</td><td>n</td><td>FALSE</td><td>n</td><td>a</td><td>c</td><td>b</td><td>y</td><td>⋯</td><td>s</td><td>o</td><td>o</td><td>p</td><td>o</td><td>o</td><td>p</td><td>o</td><td>c</td><td>l</td></tr>\n",
       "</tbody>\n",
       "</table>\n"
      ],
      "text/latex": [
       "A spec\\_tbl\\_df: 8123 × 23\n",
       "\\begin{tabular}{lllllllllllllllllllll}\n",
       " p...1 & x & s...3 & n...4 & t & p...6 & f & c & n...9 & k...10 & ⋯ & s...14 & w...15 & w...16 & p...17 & w...18 & o & p...20 & k...21 & s...22 & u\\\\\n",
       " <chr> & <chr> & <chr> & <chr> & <lgl> & <chr> & <chr> & <chr> & <chr> & <chr> & ⋯ & <chr> & <chr> & <chr> & <chr> & <chr> & <chr> & <chr> & <chr> & <chr> & <chr>\\\\\n",
       "\\hline\n",
       "\t e & x & s & y & TRUE & a & f & c & b & k & ⋯ & s & w & w & p & w & o & p & n & n & g\\\\\n",
       "\t e & b & s & w & TRUE & l & f & c & b & n & ⋯ & s & w & w & p & w & o & p & n & n & m\\\\\n",
       "\t p & x & y & w & TRUE & p & f & c & n & n & ⋯ & s & w & w & p & w & o & p & k & s & u\\\\\n",
       "\t ⋮ & ⋮ & ⋮ & ⋮ & ⋮ & ⋮ & ⋮ & ⋮ & ⋮ & ⋮ & ⋱ & ⋮ & ⋮ & ⋮ & ⋮ & ⋮ & ⋮ & ⋮ & ⋮ & ⋮ & ⋮\\\\\n",
       "\t e & f & s & n & FALSE & n & a & c & b & n & ⋯ & s & o & o & p & o & o & p & b & c & l\\\\\n",
       "\t p & k & y & n & FALSE & y & f & c & n & b & ⋯ & k & w & w & p & w & o & e & w & v & l\\\\\n",
       "\t e & x & s & n & FALSE & n & a & c & b & y & ⋯ & s & o & o & p & o & o & p & o & c & l\\\\\n",
       "\\end{tabular}\n"
      ],
      "text/markdown": [
       "\n",
       "A spec_tbl_df: 8123 × 23\n",
       "\n",
       "| p...1 &lt;chr&gt; | x &lt;chr&gt; | s...3 &lt;chr&gt; | n...4 &lt;chr&gt; | t &lt;lgl&gt; | p...6 &lt;chr&gt; | f &lt;chr&gt; | c &lt;chr&gt; | n...9 &lt;chr&gt; | k...10 &lt;chr&gt; | ⋯ ⋯ | s...14 &lt;chr&gt; | w...15 &lt;chr&gt; | w...16 &lt;chr&gt; | p...17 &lt;chr&gt; | w...18 &lt;chr&gt; | o &lt;chr&gt; | p...20 &lt;chr&gt; | k...21 &lt;chr&gt; | s...22 &lt;chr&gt; | u &lt;chr&gt; |\n",
       "|---|---|---|---|---|---|---|---|---|---|---|---|---|---|---|---|---|---|---|---|---|\n",
       "| e | x | s | y | TRUE | a | f | c | b | k | ⋯ | s | w | w | p | w | o | p | n | n | g |\n",
       "| e | b | s | w | TRUE | l | f | c | b | n | ⋯ | s | w | w | p | w | o | p | n | n | m |\n",
       "| p | x | y | w | TRUE | p | f | c | n | n | ⋯ | s | w | w | p | w | o | p | k | s | u |\n",
       "| ⋮ | ⋮ | ⋮ | ⋮ | ⋮ | ⋮ | ⋮ | ⋮ | ⋮ | ⋮ | ⋱ | ⋮ | ⋮ | ⋮ | ⋮ | ⋮ | ⋮ | ⋮ | ⋮ | ⋮ | ⋮ |\n",
       "| e | f | s | n | FALSE | n | a | c | b | n | ⋯ | s | o | o | p | o | o | p | b | c | l |\n",
       "| p | k | y | n | FALSE | y | f | c | n | b | ⋯ | k | w | w | p | w | o | e | w | v | l |\n",
       "| e | x | s | n | FALSE | n | a | c | b | y | ⋯ | s | o | o | p | o | o | p | o | c | l |\n",
       "\n"
      ],
      "text/plain": [
       "     p...1 x s...3 n...4 t     p...6 f c n...9 k...10 ⋯ s...14 w...15 w...16\n",
       "1    e     x s     y     TRUE  a     f c b     k      ⋯ s      w      w     \n",
       "2    e     b s     w     TRUE  l     f c b     n      ⋯ s      w      w     \n",
       "3    p     x y     w     TRUE  p     f c n     n      ⋯ s      w      w     \n",
       "⋮    ⋮     ⋮ ⋮     ⋮     ⋮     ⋮     ⋮ ⋮ ⋮     ⋮      ⋱ ⋮      ⋮      ⋮     \n",
       "8121 e     f s     n     FALSE n     a c b     n      ⋯ s      o      o     \n",
       "8122 p     k y     n     FALSE y     f c n     b      ⋯ k      w      w     \n",
       "8123 e     x s     n     FALSE n     a c b     y      ⋯ s      o      o     \n",
       "     p...17 w...18 o p...20 k...21 s...22 u\n",
       "1    p      w      o p      n      n      g\n",
       "2    p      w      o p      n      n      m\n",
       "3    p      w      o p      k      s      u\n",
       "⋮    ⋮      ⋮      ⋮ ⋮      ⋮      ⋮      ⋮\n",
       "8121 p      o      o p      b      c      l\n",
       "8122 p      w      o e      w      v      l\n",
       "8123 p      o      o p      o      c      l"
      ]
     },
     "metadata": {},
     "output_type": "display_data"
    }
   ],
   "source": [
    "mushroom_data <- read_csv(\"https://archive.ics.uci.edu/ml/machine-learning-databases/mushroom/agaricus-lepiota.data\")\n",
    "ncol(mushroom_data)\n",
    "# colnames(mushroom_data) <- \n",
    "#                 c(class,\n",
    "#                  cap-shape,\n",
    "#                  cap-surface,\n",
    "#                  cap-color,\n",
    "#                  bruises,\n",
    "#                  odor,\n",
    "#                  gill-attachment,\n",
    "#                  gill-spacing,\n",
    "#                  gill-size,\n",
    "#                  gill-color,\n",
    "#                  stalk-shape,\n",
    "#                  stalk-root,\n",
    "#                  stalk-surface-above-ring,\n",
    "#                  stalk-surface-below-ring,\n",
    "#                  stalk-color-above-ring,\n",
    "#                  stalk-color-below-ring,\n",
    "#                  veil-type,\n",
    "#                  veil-color,\n",
    "#                  ring-number,\n",
    "#                  ring-type,\n",
    "#                  spore-print-color,\n",
    "#                  population,\n",
    "#                  habitat)\n",
    "\n",
    "mushroom_data"
   ]
  },
  {
   "cell_type": "code",
   "execution_count": null,
   "id": "bdd033d0-6fe2-48fa-aa4c-c0818aa083ab",
   "metadata": {},
   "outputs": [],
   "source": []
  }
 ],
 "metadata": {
  "kernelspec": {
   "display_name": "R",
   "language": "R",
   "name": "ir"
  },
  "language_info": {
   "codemirror_mode": "r",
   "file_extension": ".r",
   "mimetype": "text/x-r-source",
   "name": "R",
   "pygments_lexer": "r",
   "version": "4.1.3"
  }
 },
 "nbformat": 4,
 "nbformat_minor": 5
}
