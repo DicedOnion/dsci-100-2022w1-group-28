{
 "cells": [
  {
   "cell_type": "markdown",
   "id": "7f84d2ca-aa2d-4862-81df-8eafeaf91e53",
   "metadata": {
    "tags": []
   },
   "source": [
    "# DSCI 100 - Project Proposal\n",
    "### Group 28 Members - Michael Ly and Avery Ma"
   ]
  },
  {
   "cell_type": "markdown",
   "id": "a49cbf9a-d332-40b7-87b8-ec56912c9c54",
   "metadata": {},
   "source": [
    "Title\n",
    "\n",
    "Introduction:\n",
    "\n",
    "Provide some relevant background information on the topic so that someone unfamiliar with it will be prepared to understand the rest of your proposal\n",
    "Clearly state the question you will try to answer with your project\n",
    "Identify and describe the dataset that will be used to answer the question\n",
    "Preliminary exploratory data analysis:\n",
    "Demonstrate that the dataset can be read from the web into R \n",
    "Clean and wrangle your data into a tidy format\n",
    "Using only training data, summarize the data in at least one table (this is exploratory data analysis). An example of a useful table could be one that reports the number of observations in each class, the means of the predictor variables you plan to use in your analysis and how many rows have missing data. \n",
    "Using only training data, visualize the data with at least one plot relevant to the analysis you plan to do (this is exploratory data analysis). An example of a useful visualization could be one that compares the distributions of each of the predictor variables you plan to use in your analysis.\n",
    "\n",
    "Methods:\n",
    "\n",
    "Explain how you will conduct either your data analysis and which variables/columns you will use. Note - you do not need to use all variables/columns that exist in the raw data set. In fact, that's often not a good idea. For each variable think: is this a useful variable for prediction?\n",
    "Describe at least one way that you will visualize the results\n",
    "Expected outcomes and significance:\n",
    "\n",
    "\n",
    "What do you expect to find?\n",
    "What impact could such findings have?\n",
    "What future questions could this lead to?\n",
    "       "
   ]
  },
  {
   "cell_type": "code",
   "execution_count": 15,
   "id": "92e68d01-3f80-47ce-a24e-a458e954a2f3",
   "metadata": {},
   "outputs": [
    {
     "name": "stderr",
     "output_type": "stream",
     "text": [
      "── \u001b[1mAttaching packages\u001b[22m ─────────────────────────────────────── tidyverse 1.3.1 ──\n",
      "\n",
      "\u001b[32m✔\u001b[39m \u001b[34mggplot2\u001b[39m 3.3.6     \u001b[32m✔\u001b[39m \u001b[34mpurrr  \u001b[39m 0.3.4\n",
      "\u001b[32m✔\u001b[39m \u001b[34mtibble \u001b[39m 3.1.7     \u001b[32m✔\u001b[39m \u001b[34mdplyr  \u001b[39m 1.0.9\n",
      "\u001b[32m✔\u001b[39m \u001b[34mtidyr  \u001b[39m 1.2.0     \u001b[32m✔\u001b[39m \u001b[34mstringr\u001b[39m 1.4.0\n",
      "\u001b[32m✔\u001b[39m \u001b[34mreadr  \u001b[39m 2.1.2     \u001b[32m✔\u001b[39m \u001b[34mforcats\u001b[39m 0.5.1\n",
      "\n",
      "── \u001b[1mConflicts\u001b[22m ────────────────────────────────────────── tidyverse_conflicts() ──\n",
      "\u001b[31m✖\u001b[39m \u001b[34mdplyr\u001b[39m::\u001b[32mfilter()\u001b[39m masks \u001b[34mstats\u001b[39m::filter()\n",
      "\u001b[31m✖\u001b[39m \u001b[34mdplyr\u001b[39m::\u001b[32mlag()\u001b[39m    masks \u001b[34mstats\u001b[39m::lag()\n",
      "\n",
      "── \u001b[1mAttaching packages\u001b[22m ────────────────────────────────────── tidymodels 1.0.0 ──\n",
      "\n",
      "\u001b[32m✔\u001b[39m \u001b[34mbroom       \u001b[39m 1.0.0     \u001b[32m✔\u001b[39m \u001b[34mrsample     \u001b[39m 1.0.0\n",
      "\u001b[32m✔\u001b[39m \u001b[34mdials       \u001b[39m 1.0.0     \u001b[32m✔\u001b[39m \u001b[34mtune        \u001b[39m 1.0.0\n",
      "\u001b[32m✔\u001b[39m \u001b[34minfer       \u001b[39m 1.0.2     \u001b[32m✔\u001b[39m \u001b[34mworkflows   \u001b[39m 1.0.0\n",
      "\u001b[32m✔\u001b[39m \u001b[34mmodeldata   \u001b[39m 1.0.0     \u001b[32m✔\u001b[39m \u001b[34mworkflowsets\u001b[39m 1.0.0\n",
      "\u001b[32m✔\u001b[39m \u001b[34mparsnip     \u001b[39m 1.0.0     \u001b[32m✔\u001b[39m \u001b[34myardstick   \u001b[39m 1.0.0\n",
      "\u001b[32m✔\u001b[39m \u001b[34mrecipes     \u001b[39m 1.0.1     \n",
      "\n",
      "── \u001b[1mConflicts\u001b[22m ───────────────────────────────────────── tidymodels_conflicts() ──\n",
      "\u001b[31m✖\u001b[39m \u001b[34mscales\u001b[39m::\u001b[32mdiscard()\u001b[39m masks \u001b[34mpurrr\u001b[39m::discard()\n",
      "\u001b[31m✖\u001b[39m \u001b[34mdplyr\u001b[39m::\u001b[32mfilter()\u001b[39m   masks \u001b[34mstats\u001b[39m::filter()\n",
      "\u001b[31m✖\u001b[39m \u001b[34mrecipes\u001b[39m::\u001b[32mfixed()\u001b[39m  masks \u001b[34mstringr\u001b[39m::fixed()\n",
      "\u001b[31m✖\u001b[39m \u001b[34mdplyr\u001b[39m::\u001b[32mlag()\u001b[39m      masks \u001b[34mstats\u001b[39m::lag()\n",
      "\u001b[31m✖\u001b[39m \u001b[34myardstick\u001b[39m::\u001b[32mspec()\u001b[39m masks \u001b[34mreadr\u001b[39m::spec()\n",
      "\u001b[31m✖\u001b[39m \u001b[34mrecipes\u001b[39m::\u001b[32mstep()\u001b[39m   masks \u001b[34mstats\u001b[39m::step()\n",
      "\u001b[34m•\u001b[39m Dig deeper into tidy modeling with R at \u001b[32mhttps://www.tmwr.org\u001b[39m\n",
      "\n"
     ]
    }
   ],
   "source": [
    "library(tidyverse)\n",
    "library(repr)\n",
    "library(tidymodels)\n",
    "options(repr.matrix.max.rows = 6)"
   ]
  },
  {
   "cell_type": "code",
   "execution_count": 53,
   "id": "7909d823-abfe-45fc-9de6-793b0704baf1",
   "metadata": {},
   "outputs": [
    {
     "name": "stderr",
     "output_type": "stream",
     "text": [
      "\u001b[1mRows: \u001b[22m\u001b[34m8124\u001b[39m \u001b[1mColumns: \u001b[22m\u001b[34m23\u001b[39m\n",
      "\u001b[36m──\u001b[39m \u001b[1mColumn specification\u001b[22m \u001b[36m────────────────────────────────────────────────────────\u001b[39m\n",
      "\u001b[1mDelimiter:\u001b[22m \",\"\n",
      "\u001b[31mchr\u001b[39m (22): X1, X2, X3, X4, X6, X7, X8, X9, X10, X11, X12, X13, X14, X15, X16,...\n",
      "\u001b[33mlgl\u001b[39m  (1): X5\n",
      "\n",
      "\u001b[36mℹ\u001b[39m Use `spec()` to retrieve the full column specification for this data.\n",
      "\u001b[36mℹ\u001b[39m Specify the column types or set `show_col_types = FALSE` to quiet this message.\n"
     ]
    },
    {
     "data": {
      "text/html": [
       "<table class=\"dataframe\">\n",
       "<caption>A spec_tbl_df: 8124 × 23</caption>\n",
       "<thead>\n",
       "\t<tr><th scope=col>class</th><th scope=col>cap-shape</th><th scope=col>cap-surface</th><th scope=col>cap-color</th><th scope=col>bruises</th><th scope=col>odor</th><th scope=col>gill-attachment</th><th scope=col>gill-spacing</th><th scope=col>gill-size</th><th scope=col>gill-color</th><th scope=col>⋯</th><th scope=col>stalk-surface-below-ring</th><th scope=col>stalk-color-above-ring</th><th scope=col>stalk-color-below-ring</th><th scope=col>veil-type</th><th scope=col>veil-color</th><th scope=col>ring-number</th><th scope=col>ring-type</th><th scope=col>spore-print-color</th><th scope=col>population</th><th scope=col>habitat</th></tr>\n",
       "\t<tr><th scope=col>&lt;chr&gt;</th><th scope=col>&lt;chr&gt;</th><th scope=col>&lt;chr&gt;</th><th scope=col>&lt;chr&gt;</th><th scope=col>&lt;lgl&gt;</th><th scope=col>&lt;chr&gt;</th><th scope=col>&lt;chr&gt;</th><th scope=col>&lt;chr&gt;</th><th scope=col>&lt;chr&gt;</th><th scope=col>&lt;chr&gt;</th><th scope=col>⋯</th><th scope=col>&lt;chr&gt;</th><th scope=col>&lt;chr&gt;</th><th scope=col>&lt;chr&gt;</th><th scope=col>&lt;chr&gt;</th><th scope=col>&lt;chr&gt;</th><th scope=col>&lt;chr&gt;</th><th scope=col>&lt;chr&gt;</th><th scope=col>&lt;chr&gt;</th><th scope=col>&lt;chr&gt;</th><th scope=col>&lt;chr&gt;</th></tr>\n",
       "</thead>\n",
       "<tbody>\n",
       "\t<tr><td>p</td><td>x</td><td>s</td><td>n</td><td>TRUE</td><td>p</td><td>f</td><td>c</td><td>n</td><td>k</td><td>⋯</td><td>s</td><td>w</td><td>w</td><td>p</td><td>w</td><td>o</td><td>p</td><td>k</td><td>s</td><td>u</td></tr>\n",
       "\t<tr><td>e</td><td>x</td><td>s</td><td>y</td><td>TRUE</td><td>a</td><td>f</td><td>c</td><td>b</td><td>k</td><td>⋯</td><td>s</td><td>w</td><td>w</td><td>p</td><td>w</td><td>o</td><td>p</td><td>n</td><td>n</td><td>g</td></tr>\n",
       "\t<tr><td>e</td><td>b</td><td>s</td><td>w</td><td>TRUE</td><td>l</td><td>f</td><td>c</td><td>b</td><td>n</td><td>⋯</td><td>s</td><td>w</td><td>w</td><td>p</td><td>w</td><td>o</td><td>p</td><td>n</td><td>n</td><td>m</td></tr>\n",
       "\t<tr><td>⋮</td><td>⋮</td><td>⋮</td><td>⋮</td><td>⋮</td><td>⋮</td><td>⋮</td><td>⋮</td><td>⋮</td><td>⋮</td><td>⋱</td><td>⋮</td><td>⋮</td><td>⋮</td><td>⋮</td><td>⋮</td><td>⋮</td><td>⋮</td><td>⋮</td><td>⋮</td><td>⋮</td></tr>\n",
       "\t<tr><td>e</td><td>f</td><td>s</td><td>n</td><td>FALSE</td><td>n</td><td>a</td><td>c</td><td>b</td><td>n</td><td>⋯</td><td>s</td><td>o</td><td>o</td><td>p</td><td>o</td><td>o</td><td>p</td><td>b</td><td>c</td><td>l</td></tr>\n",
       "\t<tr><td>p</td><td>k</td><td>y</td><td>n</td><td>FALSE</td><td>y</td><td>f</td><td>c</td><td>n</td><td>b</td><td>⋯</td><td>k</td><td>w</td><td>w</td><td>p</td><td>w</td><td>o</td><td>e</td><td>w</td><td>v</td><td>l</td></tr>\n",
       "\t<tr><td>e</td><td>x</td><td>s</td><td>n</td><td>FALSE</td><td>n</td><td>a</td><td>c</td><td>b</td><td>y</td><td>⋯</td><td>s</td><td>o</td><td>o</td><td>p</td><td>o</td><td>o</td><td>p</td><td>o</td><td>c</td><td>l</td></tr>\n",
       "</tbody>\n",
       "</table>\n"
      ],
      "text/latex": [
       "A spec\\_tbl\\_df: 8124 × 23\n",
       "\\begin{tabular}{lllllllllllllllllllll}\n",
       " class & cap-shape & cap-surface & cap-color & bruises & odor & gill-attachment & gill-spacing & gill-size & gill-color & ⋯ & stalk-surface-below-ring & stalk-color-above-ring & stalk-color-below-ring & veil-type & veil-color & ring-number & ring-type & spore-print-color & population & habitat\\\\\n",
       " <chr> & <chr> & <chr> & <chr> & <lgl> & <chr> & <chr> & <chr> & <chr> & <chr> & ⋯ & <chr> & <chr> & <chr> & <chr> & <chr> & <chr> & <chr> & <chr> & <chr> & <chr>\\\\\n",
       "\\hline\n",
       "\t p & x & s & n & TRUE & p & f & c & n & k & ⋯ & s & w & w & p & w & o & p & k & s & u\\\\\n",
       "\t e & x & s & y & TRUE & a & f & c & b & k & ⋯ & s & w & w & p & w & o & p & n & n & g\\\\\n",
       "\t e & b & s & w & TRUE & l & f & c & b & n & ⋯ & s & w & w & p & w & o & p & n & n & m\\\\\n",
       "\t ⋮ & ⋮ & ⋮ & ⋮ & ⋮ & ⋮ & ⋮ & ⋮ & ⋮ & ⋮ & ⋱ & ⋮ & ⋮ & ⋮ & ⋮ & ⋮ & ⋮ & ⋮ & ⋮ & ⋮ & ⋮\\\\\n",
       "\t e & f & s & n & FALSE & n & a & c & b & n & ⋯ & s & o & o & p & o & o & p & b & c & l\\\\\n",
       "\t p & k & y & n & FALSE & y & f & c & n & b & ⋯ & k & w & w & p & w & o & e & w & v & l\\\\\n",
       "\t e & x & s & n & FALSE & n & a & c & b & y & ⋯ & s & o & o & p & o & o & p & o & c & l\\\\\n",
       "\\end{tabular}\n"
      ],
      "text/markdown": [
       "\n",
       "A spec_tbl_df: 8124 × 23\n",
       "\n",
       "| class &lt;chr&gt; | cap-shape &lt;chr&gt; | cap-surface &lt;chr&gt; | cap-color &lt;chr&gt; | bruises &lt;lgl&gt; | odor &lt;chr&gt; | gill-attachment &lt;chr&gt; | gill-spacing &lt;chr&gt; | gill-size &lt;chr&gt; | gill-color &lt;chr&gt; | ⋯ ⋯ | stalk-surface-below-ring &lt;chr&gt; | stalk-color-above-ring &lt;chr&gt; | stalk-color-below-ring &lt;chr&gt; | veil-type &lt;chr&gt; | veil-color &lt;chr&gt; | ring-number &lt;chr&gt; | ring-type &lt;chr&gt; | spore-print-color &lt;chr&gt; | population &lt;chr&gt; | habitat &lt;chr&gt; |\n",
       "|---|---|---|---|---|---|---|---|---|---|---|---|---|---|---|---|---|---|---|---|---|\n",
       "| p | x | s | n | TRUE | p | f | c | n | k | ⋯ | s | w | w | p | w | o | p | k | s | u |\n",
       "| e | x | s | y | TRUE | a | f | c | b | k | ⋯ | s | w | w | p | w | o | p | n | n | g |\n",
       "| e | b | s | w | TRUE | l | f | c | b | n | ⋯ | s | w | w | p | w | o | p | n | n | m |\n",
       "| ⋮ | ⋮ | ⋮ | ⋮ | ⋮ | ⋮ | ⋮ | ⋮ | ⋮ | ⋮ | ⋱ | ⋮ | ⋮ | ⋮ | ⋮ | ⋮ | ⋮ | ⋮ | ⋮ | ⋮ | ⋮ |\n",
       "| e | f | s | n | FALSE | n | a | c | b | n | ⋯ | s | o | o | p | o | o | p | b | c | l |\n",
       "| p | k | y | n | FALSE | y | f | c | n | b | ⋯ | k | w | w | p | w | o | e | w | v | l |\n",
       "| e | x | s | n | FALSE | n | a | c | b | y | ⋯ | s | o | o | p | o | o | p | o | c | l |\n",
       "\n"
      ],
      "text/plain": [
       "     class cap-shape cap-surface cap-color bruises odor gill-attachment\n",
       "1    p     x         s           n         TRUE    p    f              \n",
       "2    e     x         s           y         TRUE    a    f              \n",
       "3    e     b         s           w         TRUE    l    f              \n",
       "⋮    ⋮     ⋮         ⋮           ⋮         ⋮       ⋮    ⋮              \n",
       "8122 e     f         s           n         FALSE   n    a              \n",
       "8123 p     k         y           n         FALSE   y    f              \n",
       "8124 e     x         s           n         FALSE   n    a              \n",
       "     gill-spacing gill-size gill-color ⋯ stalk-surface-below-ring\n",
       "1    c            n         k          ⋯ s                       \n",
       "2    c            b         k          ⋯ s                       \n",
       "3    c            b         n          ⋯ s                       \n",
       "⋮    ⋮            ⋮         ⋮          ⋱ ⋮                       \n",
       "8122 c            b         n          ⋯ s                       \n",
       "8123 c            n         b          ⋯ k                       \n",
       "8124 c            b         y          ⋯ s                       \n",
       "     stalk-color-above-ring stalk-color-below-ring veil-type veil-color\n",
       "1    w                      w                      p         w         \n",
       "2    w                      w                      p         w         \n",
       "3    w                      w                      p         w         \n",
       "⋮    ⋮                      ⋮                      ⋮         ⋮         \n",
       "8122 o                      o                      p         o         \n",
       "8123 w                      w                      p         w         \n",
       "8124 o                      o                      p         o         \n",
       "     ring-number ring-type spore-print-color population habitat\n",
       "1    o           p         k                 s          u      \n",
       "2    o           p         n                 n          g      \n",
       "3    o           p         n                 n          m      \n",
       "⋮    ⋮           ⋮         ⋮                 ⋮          ⋮      \n",
       "8122 o           p         b                 c          l      \n",
       "8123 o           e         w                 v          l      \n",
       "8124 o           p         o                 c          l      "
      ]
     },
     "metadata": {},
     "output_type": "display_data"
    }
   ],
   "source": [
    "mushroom_data <- read_csv(\"https://archive.ics.uci.edu/ml/machine-learning-databases/mushroom/agaricus-lepiota.data\", col_name = FALSE)\n",
    "# ncol(mushroom_data)\n",
    "colnames(mushroom_data) <- \n",
    "                c(\"class\",\n",
    "                 \"cap-shape\",\n",
    "                 \"cap-surface\",\n",
    "                 \"cap-color\",\n",
    "                 \"bruises\",\n",
    "                 \"odor\",\n",
    "                 \"gill-attachment\",\n",
    "                 \"gill-spacing\",\n",
    "                 \"gill-size\",\n",
    "                 \"gill-color\",\n",
    "                 \"stalk-shape\",\n",
    "                 \"stalk-root\",\n",
    "                 \"stalk-surface-above-ring\",\n",
    "                 \"stalk-surface-below-ring\",\n",
    "                 \"stalk-color-above-ring\",\n",
    "                 \"stalk-color-below-ring\",\n",
    "                 \"veil-type\",\n",
    "                 \"veil-color\",\n",
    "                 \"ring-number\",\n",
    "                 \"ring-type\",\n",
    "                 \"spore-print-color\",\n",
    "                 \"population\",\n",
    "                 \"habitat\")\n",
    "\n",
    "mushroom_data"
   ]
  },
  {
   "cell_type": "code",
   "execution_count": null,
   "id": "bdd033d0-6fe2-48fa-aa4c-c0818aa083ab",
   "metadata": {},
   "outputs": [],
   "source": []
  }
 ],
 "metadata": {
  "kernelspec": {
   "display_name": "R",
   "language": "R",
   "name": "ir"
  },
  "language_info": {
   "codemirror_mode": "r",
   "file_extension": ".r",
   "mimetype": "text/x-r-source",
   "name": "R",
   "pygments_lexer": "r",
   "version": "4.1.3"
  }
 },
 "nbformat": 4,
 "nbformat_minor": 5
}
